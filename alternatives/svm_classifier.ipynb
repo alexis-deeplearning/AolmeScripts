{
 "cells": [
  {
   "cell_type": "code",
   "execution_count": null,
   "metadata": {
    "pycharm": {
     "name": "#%%\n"
    }
   },
   "outputs": [],
   "source": []
  },
  {
   "cell_type": "markdown",
   "metadata": {
    "pycharm": {
     "name": "#%% md\n"
    }
   },
   "source": [
    "# Roles Classifier Alternative: Support Vector Machines"
   ]
  },
  {
   "cell_type": "code",
   "execution_count": 5,
   "metadata": {
    "pycharm": {
     "name": "#%%\n"
    }
   },
   "outputs": [],
   "source": [
    "import matplotlib.pyplot as plt\n",
    "import numpy as np\n",
    "import pandas as pd\n",
    "from sklearn.feature_extraction.text import CountVectorizer\n",
    "from sklearn.feature_extraction.text import TfidfTransformer\n",
    "from sklearn.linear_model import SGDClassifier\n",
    "from sklearn.model_selection import train_test_split\n",
    "from sklearn.neighbors import KNeighborsClassifier\n",
    "from sklearn.pipeline import Pipeline"
   ]
  },
  {
   "cell_type": "markdown",
   "metadata": {
    "pycharm": {
     "name": "#%% md\n"
    }
   },
   "source": [
    "## Testing Several Files"
   ]
  },
  {
   "cell_type": "code",
   "execution_count": 27,
   "metadata": {
    "pycharm": {
     "name": "#%%\n"
    }
   },
   "outputs": [
    {
     "name": "stdout",
     "output_type": "stream",
     "text": [
      "Accuracy for file_size 150: 0.567\n",
      "Accuracy for file_size 200: 0.525\n",
      "Accuracy for file_size 250: 0.560\n",
      "Accuracy for file_size 300: 0.600\n",
      "Accuracy for file_size 350: 0.529\n",
      "Accuracy for file_size 400: 0.600\n",
      "Accuracy for file_size 450: 0.544\n",
      "Accuracy for file_size 500: 0.550\n",
      "Accuracy for file_size 550: 0.555\n",
      "Accuracy for file_size 600: 0.567\n",
      "Accuracy for file_size 645: 0.636\n"
     ]
    }
   ],
   "source": [
    "file_size = [150, 200, 250, 300, 350, 400, 450, 500, 550, 600, 645]\n",
    "accuracy = []\n",
    "\n",
    "for i in file_size:\n",
    "    file_name = f'output/balanced_{i}.csv'\n",
    "    roles = pd.read_csv(f'../{file_name}')\n",
    "    mapping = {'Student': 0, 'Co-Facilitator': 1, 'Facilitator': 2}\n",
    "    roles['Role'] = roles['Role'].apply(lambda x: mapping[x])\n",
    "\n",
    "    X = roles['Text']\n",
    "    y = roles['Role']\n",
    "    X_train, X_valid, y_train, y_valid = train_test_split(X, y, test_size=0.2)\n",
    "\n",
    "    # 'hinge' gives SVM\n",
    "    # penalty is L2, for SVM\n",
    "    svm = SGDClassifier(loss='hinge', penalty='l2', alpha=1e-3, random_state=42)\n",
    "    svm.n_iter = 5\n",
    "    svm_classifier = Pipeline([\n",
    "        ('vect', CountVectorizer()),\n",
    "        ('tfidf', TfidfTransformer()),\n",
    "        ('clf', svm),\n",
    "    ])\n",
    "\n",
    "    # Fitting our train data to the pipeline\n",
    "    svm_classifier.fit(X_train, y_train)\n",
    "    predicted = svm_classifier.predict(X_valid)\n",
    "\n",
    "    accuracy_partial = np.mean(predicted == y_valid)\n",
    "    print(f'Accuracy for file_size {i}: %.3f' % accuracy_partial)\n",
    "    accuracy.append(accuracy_partial)"
   ]
  },
  {
   "cell_type": "markdown",
   "metadata": {
    "pycharm": {
     "name": "#%% md\n"
    }
   },
   "source": [
    "## Graphical Performance Analysis\n",
    "\n",
    "In the following plots we can see the how the model behaves when it is trained with different amounts of data."
   ]
  },
  {
   "cell_type": "code",
   "execution_count": 28,
   "metadata": {
    "pycharm": {
     "name": "#%%\n"
    }
   },
   "outputs": [
    {
     "data": {
      "image/png": "[encoded data removed]",
      "text/plain": [
       "<Figure size 432x288 with 1 Axes>"
      ]
     },
     "metadata": {
      "needs_background": "light"
     },
     "output_type": "display_data"
    }
   ],
   "source": [
    "%matplotlib inline\n",
    "\n",
    "plt.plot(file_size, accuracy)\n",
    "plt.title('# of Rows vs. Accuracy')\n",
    "plt.suptitle('SVM Roles Classifier')\n",
    "plt.xlabel('# of Rows')\n",
    "plt.ylabel('Accuracy')\n",
    "plt.show()"
   ]
  },
  {
   "cell_type": "code",
   "execution_count": 29,
   "metadata": {
    "pycharm": {
     "name": "#%%\n"
    }
   },
   "outputs": [
    {
     "name": "stdout",
     "output_type": "stream",
     "text": [
      "Mean Accuracy: 0.566504870511213\n"
     ]
    }
   ],
   "source": [
    "print(f'Mean Accuracy: {np.mean(accuracy)}')\n"
   ]
  },
  {
   "cell_type": "markdown",
   "source": [
    "## Conclusions\n",
    "\n",
    "- The model doesn't show a good performance with the datasets, and we can see that the behavior is random, from which we can conclude that SVM was not able to learn anything from the datasets. Even if we consider that the Mean Accuracy is around 0.56, the variance between the results is not a good indicator."
   ],
   "metadata": {
    "collapsed": false
   }
  },
  {
   "cell_type": "markdown",
   "metadata": {},
   "source": []
  },
  {
   "cell_type": "code",
   "execution_count": null,
   "metadata": {
    "pycharm": {
     "name": "#%%\n"
    }
   },
   "outputs": [],
   "source": []
  },
  {
   "cell_type": "code",
   "execution_count": null,
   "metadata": {
    "collapsed": true
   },
   "outputs": [],
   "source": []
  }
 ],
 "metadata": {
  "kernelspec": {
   "display_name": "Python 3",
   "language": "python",
   "name": "python3"
  },
  "language_info": {
   "codemirror_mode": {
    "name": "ipython",
    "version": 3
   },
   "file_extension": ".py",
   "mimetype": "text/x-python",
   "name": "python",
   "nbconvert_exporter": "python",
   "pygments_lexer": "ipython3",
   "version": "3.8.5"
  }
 },
 "nbformat": 4,
 "nbformat_minor": 1
}