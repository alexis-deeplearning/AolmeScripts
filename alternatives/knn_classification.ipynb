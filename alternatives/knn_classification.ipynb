{
 "cells": [
  {
   "cell_type": "markdown",
   "metadata": {},
   "source": [
    "# Roles Classifier Alternative: K-Nearest Neighbor\n",
    "\n",
    "Imports and downloading tokenizers from NLTK:"
   ]
  },
  {
   "cell_type": "code",
   "execution_count": 6,
   "metadata": {},
   "outputs": [],
   "source": [
    "import matplotlib.pyplot as plt\n",
    "import numpy as np\n",
    "import pandas as pd\n",
    "from sklearn.feature_extraction.text import CountVectorizer\n",
    "from sklearn.feature_extraction.text import TfidfTransformer\n",
    "from sklearn.model_selection import train_test_split\n",
    "from sklearn.neighbors import KNeighborsClassifier\n",
    "from sklearn.pipeline import Pipeline"
   ]
  },
  {
   "cell_type": "markdown",
   "metadata": {},
   "source": [
    "## Testing Several Files"
   ]
  },
  {
   "cell_type": "code",
   "execution_count": 15,
   "metadata": {
    "pycharm": {
     "name": "#%%\n"
    }
   },
   "outputs": [
    {
     "name": "stdout",
     "output_type": "stream",
     "text": [
      "Accuracy for file_size 150: 0.400\n",
      "Accuracy for file_size 200: 0.400\n",
      "Accuracy for file_size 250: 0.360\n",
      "Accuracy for file_size 300: 0.533\n",
      "Accuracy for file_size 350: 0.414\n",
      "Accuracy for file_size 400: 0.425\n",
      "Accuracy for file_size 450: 0.444\n",
      "Accuracy for file_size 500: 0.540\n",
      "Accuracy for file_size 550: 0.391\n",
      "Accuracy for file_size 600: 0.450\n",
      "Accuracy for file_size 645: 0.457\n"
     ]
    }
   ],
   "source": [
    "file_size = [150, 200, 250, 300, 350, 400, 450, 500, 550, 600, 645]\n",
    "accuracy = []\n",
    "\n",
    "for i in file_size:\n",
    "    file_name = f'output/balanced_{i}.csv'\n",
    "    roles = pd.read_csv(f'../{file_name}')\n",
    "    mapping = {'Student': 0, 'Co-Facilitator': 1, 'Facilitator': 2}\n",
    "    roles['Role'] = roles['Role'].apply(lambda x: mapping[x])\n",
    "\n",
    "    X = roles['Text']\n",
    "    y = roles['Role']\n",
    "    X_train, X_valid, y_train, y_valid = train_test_split(X, y, test_size=0.2)\n",
    "\n",
    "    knn = KNeighborsClassifier(n_neighbors=1)\n",
    "    knn_classifier = Pipeline([\n",
    "        ('vect', CountVectorizer()),\n",
    "        ('tfidf', TfidfTransformer()),\n",
    "        ('clf', knn),\n",
    "    ])\n",
    "\n",
    "    # Fitting our train data to the pipeline\n",
    "    knn_classifier.fit(X_train, y_train)\n",
    "    predicted = knn_classifier.predict(X_valid)\n",
    "\n",
    "    accuracy_partial = np.mean(predicted == y_valid)\n",
    "    print(f'Accuracy for file_size {i}: %.3f' % accuracy_partial)\n",
    "    accuracy.append(accuracy_partial)"
   ]
  },
  {
   "cell_type": "markdown",
   "metadata": {},
   "source": [
    "## Graphical Performance Analysis\n",
    "\n",
    "In the following plots we can see the how the model behaves when it is trained with different amounts of data."
   ]
  },
  {
   "cell_type": "code",
   "execution_count": 16,
   "metadata": {
    "pycharm": {
     "name": "#%%\n"
    }
   },
   "outputs": [
    {
     "data": {
      "image/png": "[encoded data removed]",
      "text/plain": [
       "<Figure size 432x288 with 1 Axes>"
      ]
     },
     "metadata": {
      "needs_background": "light"
     },
     "output_type": "display_data"
    }
   ],
   "source": [
    "%matplotlib inline\n",
    "\n",
    "plt.plot(file_size, accuracy)\n",
    "plt.title('# of Rows vs. Accuracy')\n",
    "plt.suptitle('K-Nearest Neighbor Roles Classifier')\n",
    "plt.xlabel('# of Rows')\n",
    "plt.ylabel('Accuracy')\n",
    "plt.show()"
   ]
  },
  {
   "cell_type": "markdown",
   "metadata": {
    "pycharm": {
     "name": "#%% md\n"
    }
   },
   "source": [
    "## Conclusions\n",
    "\n",
    "- The model doesn't show a good performance with the datasets, and we can see that the behavior is random, from which we\n",
    "can conclude that KNN was not able to learn anything from the datasets."
   ]
  },
  {
   "cell_type": "code",
   "execution_count": null,
   "metadata": {
    "pycharm": {
     "name": "#%%\n"
    }
   },
   "outputs": [],
   "source": []
  },
  {
   "cell_type": "code",
   "execution_count": null,
   "metadata": {},
   "outputs": [],
   "source": []
  }
 ],
 "metadata": {
  "kernelspec": {
   "display_name": "Python 3",
   "language": "python",
   "name": "python3"
  },
  "language_info": {
   "codemirror_mode": {
    "name": "ipython",
    "version": 3
   },
   "file_extension": ".py",
   "mimetype": "text/x-python",
   "name": "python",
   "nbconvert_exporter": "python",
   "pygments_lexer": "ipython3",
   "version": "3.8.5"
  }
 },
 "nbformat": 4,
 "nbformat_minor": 1
}