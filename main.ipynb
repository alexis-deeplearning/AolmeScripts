{
 "cells": [
  {
   "cell_type": "markdown",
   "metadata": {
    "collapsed": true,
    "pycharm": {
     "name": "#%% md\n"
    }
   },
   "source": [
    "# AOLME Datasets Generator\n",
    "\n",
    "This is a fast CSV dataset generator from transcripts of AOLME Sessions in MS Word format.\n",
    "\n",
    "We start with the import declarations:"
   ]
  },
  {
   "cell_type": "code",
   "execution_count": 25,
   "metadata": {
    "pycharm": {
     "name": "#%%\n"
    }
   },
   "outputs": [],
   "source": [
    "import sys\n",
    "import docx\n",
    "import unidecode\n",
    "import os\n",
    "\n",
    "from datetime import datetime\n",
    "from pandas import DataFrame\n",
    "from utilities_nlp import load_roles, process_line"
   ]
  },
  {
   "cell_type": "markdown",
   "metadata": {
    "pycharm": {
     "name": "#%% md\n"
    }
   },
   "source": [
    "Next, the methods used to process the MS Word files and load roles:"
   ]
  },
  {
   "cell_type": "code",
   "execution_count": 26,
   "metadata": {
    "pycharm": {
     "name": "#%%\n"
    }
   },
   "outputs": [],
   "source": [
    "students, co_facilitators, facilitators, non_role = load_roles()"
   ]
  },
  {
   "cell_type": "markdown",
   "metadata": {},
   "source": [
    "Process Files Method"
   ]
  },
  {
   "cell_type": "code",
   "execution_count": 27,
   "metadata": {
    "pycharm": {
     "name": "#%%\n"
    }
   },
   "outputs": [],
   "source": [
    "def process_files(file_name: str, dir_name: str):\n",
    "    files = []\n",
    "    if dir_name is not None and dir_name != '':\n",
    "        file_names = os.listdir(dir_name)\n",
    "\n",
    "        for sub_file_name in file_names:\n",
    "            files.append(f'{dir_name}/{sub_file_name}')\n",
    "    elif file_name is not None:\n",
    "        files.append(file_name)\n",
    "    else:\n",
    "        print('Error: It is necessary to pass input file (-i) or input directory (-d)')\n",
    "        print('main.py [-i --ifile <inputfile>] [-d --dir <inputfolder>] [-o --ofile <outputfile>]')\n",
    "        sys.exit(2)\n",
    "\n",
    "    data_frame = DataFrame([], columns=['Role', 'Text'])\n",
    "\n",
    "    for file in files:\n",
    "        document = docx.Document(docx=file)\n",
    "\n",
    "        data_vector = []\n",
    "\n",
    "        for line in document.paragraphs:\n",
    "            line_text = line.text.replace('¿', '')\n",
    "            line_text = unidecode.unidecode(line_text)\n",
    "            role, text = process_line(line_text, students, co_facilitators, facilitators, non_role)\n",
    "\n",
    "            if role is not None and text is not None:\n",
    "                if text != '':\n",
    "                    data_vector.append([role, text])\n",
    "\n",
    "        data_frame = data_frame.append(DataFrame(data_vector, columns=['Role', 'Text']))\n",
    "\n",
    "    return data_frame"
   ]
  },
  {
   "cell_type": "markdown",
   "metadata": {},
   "source": [
    "## Loaded Roles.\n",
    "Students:"
   ]
  },
  {
   "cell_type": "code",
   "execution_count": 28,
   "metadata": {
    "pycharm": {
     "name": "#%%\n"
    }
   },
   "outputs": [
    {
     "name": "stdout",
     "output_type": "stream",
     "text": [
      "['Marissa', 'Benny', 'Brandon', 'Matias', 'Suzette']\n"
     ]
    }
   ],
   "source": [
    "print(students)"
   ]
  },
  {
   "cell_type": "markdown",
   "metadata": {},
   "source": [
    "Co-Facilitators:"
   ]
  },
  {
   "cell_type": "code",
   "execution_count": 29,
   "metadata": {
    "pycharm": {
     "name": "#%%\n"
    }
   },
   "outputs": [
    {
     "name": "stdout",
     "output_type": "stream",
     "text": [
      "['Judith', 'Brandon']\n"
     ]
    }
   ],
   "source": [
    "print(co_facilitators)"
   ]
  },
  {
   "cell_type": "markdown",
   "metadata": {},
   "source": [
    "Facilitators:"
   ]
  },
  {
   "cell_type": "code",
   "execution_count": 30,
   "metadata": {
    "pycharm": {
     "name": "#%%\n"
    }
   },
   "outputs": [
    {
     "name": "stdout",
     "output_type": "stream",
     "text": [
      "['External Person', 'Isaac', 'Carlos', 'Man', 'Woman', 'Luis', 'Marios', 'Allan', 'External Person in [a-zA-Z_]']\n"
     ]
    }
   ],
   "source": [
    "print(facilitators)"
   ]
  },
  {
   "cell_type": "markdown",
   "metadata": {
    "pycharm": {
     "name": "#%% md\n"
    }
   },
   "source": [
    "## Files Processing\n",
    "\n",
    "We are going to process all files stored in 'data' folder, to generate a Pandas DataFrame which will help us to search and filter rows, and finally to migrate the dataframe into a CSV file."
   ]
  },
  {
   "cell_type": "code",
   "execution_count": 31,
   "metadata": {
    "pycharm": {
     "name": "#%%\n"
    }
   },
   "outputs": [
    {
     "name": "stdout",
     "output_type": "stream",
     "text": [
      "Students Count: 124 (21.49%)\n",
      "Facilitators Count: 230 (39.86%)\n",
      "CoFacilitators Count: 223 (38.65%)\n",
      "Total Rows: 577\n",
      "\n",
      "#####################################################################\n",
      "The CSV file has been created at output/unbalanced_20201008231312.csv\n"
     ]
    }
   ],
   "source": [
    "df = process_files(None, 'data')\n",
    "\n",
    "students_count = len(df[df['Role'] == 'Student'])\n",
    "facilitators_count = len(df[df['Role'] == 'Facilitator'])\n",
    "co_facilitators_count = len(df[df['Role'] == 'Co-Facilitator'])\n",
    "\n",
    "total = students_count + facilitators_count + co_facilitators_count\n",
    "\n",
    "print(f'Students Count: {students_count} ({students_count * 100 / total:.2f}%)')\n",
    "print(f'Facilitators Count: {facilitators_count} ({facilitators_count * 100 / total:.2f}%)')\n",
    "print(f'CoFacilitators Count: {co_facilitators_count} ({co_facilitators_count * 100 / total:.2f}%)')\n",
    "print(f'Total Rows: {total}')\n",
    "\n",
    "# Define output filename\n",
    "today = datetime.now()\n",
    "d1 = today.strftime(\"%Y%m%d%H%M%S\")\n",
    "output_to = f'output/unbalanced_{d1}.csv'\n",
    "\n",
    "df.to_csv(output_to, index=False)\n",
    "\n",
    "output_filename = f'The CSV file has been created at {output_to}'\n",
    "print('\\n' + '#' * len(output_filename))\n",
    "print(output_filename)"
   ]
  },
  {
   "cell_type": "markdown",
   "metadata": {},
   "source": [
    "We can see that the dataset has a different amount of rows for each role, as we can see in the following figure:"
   ]
  },
  {
   "cell_type": "code",
   "execution_count": 32,
   "metadata": {
    "pycharm": {
     "name": "#%%\n"
    }
   },
   "outputs": [
    {
     "data": {
      "text/plain": "<Figure size 432x288 with 1 Axes>",
      "image/png": "[encoded data removed]"
     },
     "metadata": {},
     "output_type": "display_data"
    }
   ],
   "source": [
    "import matplotlib.pyplot as plt\n",
    "%matplotlib inline\n",
    "labels = 'Students', 'Co-Facilitators', 'Facilitators'\n",
    "values = [students_count, co_facilitators_count, facilitators_count]\n",
    "explode = (0.1, 0.1, 0)\n",
    "\n",
    "fig1, ax1 = plt.subplots()\n",
    "ax1.pie(values, explode=explode, labels=labels, autopct='%1.1f%%', shadow=True, startangle=90)\n",
    "ax1.axis('equal')\n",
    "\n",
    "plt.show()"
   ]
  },
  {
   "cell_type": "markdown",
   "metadata": {},
   "source": [
    "### Download Raw Unbalanced Dataset"
   ]
  },
  {
   "cell_type": "code",
   "execution_count": 33,
   "metadata": {
    "pycharm": {
     "name": "#%%\n"
    }
   },
   "outputs": [
    {
     "data": {
      "text/plain": "C:\\Users\\alexi\\PycharmProjects\\AolmeScripts\\output\\unbalanced_20201008231312.csv",
      "text/html": "Click here to download: <a href='output/unbalanced_20201008231312.csv' target='_blank'>output/unbalanced_20201008231312.csv</a><br>"
     },
     "metadata": {},
     "output_type": "display_data"
    }
   ],
   "source": [
    "from IPython.display import display, FileLink\n",
    "\n",
    "local_file = FileLink(f'{output_to}', result_html_prefix=\"Click here to download: \")\n",
    "display(local_file)"
   ]
  },
  {
   "cell_type": "markdown",
   "metadata": {},
   "source": [
    "## Prepare Balanced Dataset\n",
    "\n",
    "The target of this module is creating a balanced dataset from the files, to allow the Deep Learning models to equally learn for each role:"
   ]
  },
  {
   "cell_type": "code",
   "execution_count": 34,
   "metadata": {
    "pycharm": {
     "name": "#%%\n"
    }
   },
   "outputs": [
    {
     "name": "stdout",
     "output_type": "stream",
     "text": [
      "Students Count: 124 (33.33%)\n",
      "Facilitators Count: 124 (33.33%)\n",
      "CoFacilitators Count: 124 (33.33%)\n",
      "Total Rows: 372\n",
      "\n",
      "###################################################################\n",
      "The CSV file has been created at output/balanced_20201008231312.csv\n"
     ]
    }
   ],
   "source": [
    "sub_students = df.loc[df['Role'] == 'Student']\n",
    "sub_co_facilitators = df.loc[df['Role'] == 'Co-Facilitator']\n",
    "sub_facilitators = df.loc[df['Role'] == 'Facilitator']\n",
    "\n",
    "if students_count < co_facilitators_count and students_count < facilitators_count:\n",
    "    sub_co_facilitators = sub_co_facilitators.head(students_count)\n",
    "    sub_facilitators = sub_facilitators.head(students_count)\n",
    "elif co_facilitators_count < students_count and co_facilitators_count < facilitators_count:\n",
    "    sub_students = sub_students.head(co_facilitators_count)\n",
    "    sub_facilitators = sub_facilitators.head(co_facilitators_count)\n",
    "else:\n",
    "    sub_students = sub_students.head(facilitators_count)\n",
    "    sub_co_facilitators = sub_co_facilitators.head(facilitators_count)\n",
    "\n",
    "balanced_df = DataFrame(sub_students, columns=['Role', 'Text'])\n",
    "balanced_df = balanced_df.append(sub_co_facilitators)\n",
    "balanced_df = balanced_df.append(sub_facilitators)\n",
    "\n",
    "students_count = len(balanced_df[balanced_df['Role'] == 'Student'])\n",
    "facilitators_count = len(balanced_df[balanced_df['Role'] == 'Facilitator'])\n",
    "co_facilitators_count = len(balanced_df[balanced_df['Role'] == 'Co-Facilitator'])\n",
    "\n",
    "total = students_count + facilitators_count + co_facilitators_count\n",
    "\n",
    "print(f'Students Count: {students_count} ({students_count * 100 / total:.2f}%)')\n",
    "print(f'Facilitators Count: {facilitators_count} ({facilitators_count * 100 / total:.2f}%)')\n",
    "print(f'CoFacilitators Count: {co_facilitators_count} ({co_facilitators_count * 100 / total:.2f}%)')\n",
    "print(f'Total Rows: {total}')\n",
    "\n",
    "output_to = f'output/balanced_{d1}.csv'\n",
    "\n",
    "balanced_df.to_csv(output_to, index=False)\n",
    "\n",
    "output_filename = f'The CSV file has been created at {output_to}'\n",
    "print('\\n' + '#' * len(output_filename))\n",
    "print(output_filename)"
   ]
  },
  {
   "cell_type": "code",
   "execution_count": 35,
   "metadata": {
    "pycharm": {
     "name": "#%%\n"
    }
   },
   "outputs": [
    {
     "data": {
      "text/plain": "<Figure size 432x288 with 1 Axes>",
      "image/png": "[encoded data removed]"
     },
     "metadata": {},
     "output_type": "display_data"
    }
   ],
   "source": [
    "values = [students_count, co_facilitators_count, facilitators_count]\n",
    "explode = (0.1, 0.1, 0)\n",
    "\n",
    "fig1, ax1 = plt.subplots()\n",
    "ax1.pie(values, explode=explode, labels=labels, autopct='%1.1f%%', shadow=True, startangle=90)\n",
    "ax1.axis('equal')\n",
    "\n",
    "plt.show()"
   ]
  },
  {
   "cell_type": "markdown",
   "metadata": {},
   "source": [
    "### Download Balanced Dataset"
   ]
  },
  {
   "cell_type": "code",
   "execution_count": 36,
   "metadata": {
    "pycharm": {
     "name": "#%%\n"
    }
   },
   "outputs": [
    {
     "data": {
      "text/plain": "C:\\Users\\alexi\\PycharmProjects\\AolmeScripts\\output\\balanced_20201008231312.csv",
      "text/html": "Click here to download: <a href='output/balanced_20201008231312.csv' target='_blank'>output/balanced_20201008231312.csv</a><br>"
     },
     "metadata": {},
     "output_type": "display_data"
    }
   ],
   "source": [
    "from IPython.display import display, FileLink\n",
    "\n",
    "local_file = FileLink(f'{output_to}', result_html_prefix=\"Click here to download: \")\n",
    "display(local_file)\n"
   ]
  },
  {
   "cell_type": "code",
   "execution_count": 36,
   "metadata": {},
   "outputs": [],
   "source": []
  }
 ],
 "metadata": {
  "kernelspec": {
   "display_name": "PyCharm (AolmeScripts)",
   "language": "python",
   "name": "pycharm-d092e169"
  },
  "language_info": {
   "codemirror_mode": {
    "name": "ipython",
    "version": 3
   },
   "file_extension": ".py",
   "mimetype": "text/x-python",
   "name": "python",
   "nbconvert_exporter": "python",
   "pygments_lexer": "ipython3",
   "version": "3.8.5"
  }
 },
 "nbformat": 4,
 "nbformat_minor": 1
}